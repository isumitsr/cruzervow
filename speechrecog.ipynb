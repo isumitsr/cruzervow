{
 "cells": [
  {
   "cell_type": "code",
   "execution_count": 3,
   "metadata": {},
   "outputs": [
    {
     "name": "stdout",
     "output_type": "stream",
     "text": [
      "say:\n",
      "yeah this is I miss you this is Aayushi Aayushi Aayushi Aayushi\n",
      "Just say your username and password please\n",
      "say :\n",
      "user name is Ayush and password is redhat password is redhat\n",
      "Hi aayushi \n",
      "Hi aayushi now you are authenticated\n"
     ]
    }
   ],
   "source": [
    "import pyttsx3\n",
    "import webbrowser as wb\n",
    "engine = pyttsx3.init()\n",
    "#engine.say('Hi')\n",
    "engine.runAndWait()\n",
    "\n",
    "import speech_recognition as sr\n",
    "r = sr.Recognizer()\n",
    "mic = sr.Microphone()\n",
    "with mic as source:\n",
    "    r.adjust_for_ambient_noise(source, duration=0.5)\n",
    "    print(\"say:\")\n",
    "    audio = r.listen(source)\n",
    "    try:\n",
    "        text1 = r.recognize_google(audio)\n",
    "        print(text1)\n",
    "        engine.say(text1)\n",
    "        engine.runAndWait()\n",
    "        if \"Aayushi\" in text1:\n",
    "            engine.say(\"Just say your username and password please\")\n",
    "            print(\"Just say your username and password please\")\n",
    "            engine.runAndWait()\n",
    "            print(\"say :\")\n",
    "            audio = r.listen(source)\n",
    "            \n",
    "            try:\n",
    "                # text = r.recognize_sphinx(audio)\n",
    "                text = r.recognize_google(audio)\n",
    "                print(text)\n",
    "                engine.say(text)\n",
    "                engine.runAndWait()\n",
    "                if \"Aayushi\" and \"redhat\" in text:  \n",
    "                    print(\"Hi aayushi \")\n",
    "                    engine.say(\"Hi aayushi\")\n",
    "                    engine.runAndWait()\n",
    "                    print(\"Hi aayushi now you are authenticated\")\n",
    "                    engine.say(\"Hi aayushi now you are authenticated\")\n",
    "                    engine.runAndWait()\n",
    "                    wb.open_new_tab(\"http://192.168.43.204\")\n",
    "                else:\n",
    "                    print(\"You are not authenticated\")\n",
    "                    engine.say(\"You are not authenticated\")\n",
    "                    engine.runAndWait()\n",
    "\n",
    "            except sr.UnknownValueError:\n",
    "                print(\"Google Speech Recognition could not understand audio\")\n",
    "\n",
    "            except sr.RequestError as e:\n",
    "                print(\"Could not request results from Google Speech Recognition service; {0}\".format(e))\n",
    "    except sr.UnknownValueError:\n",
    "            print(\"Google Speech Recognition could not understand audio\")\n",
    "    except sr.RequestError as e:\n",
    "            print(\"Could not request results from Google Speech Recognition service; {0}\".format(e))\n"
   ]
  },
  {
   "cell_type": "code",
   "execution_count": null,
   "metadata": {},
   "outputs": [],
   "source": []
  },
  {
   "cell_type": "code",
   "execution_count": null,
   "metadata": {},
   "outputs": [],
   "source": []
  }
 ],
 "metadata": {
  "kernelspec": {
   "display_name": "Python 3",
   "language": "python",
   "name": "python3"
  },
  "language_info": {
   "codemirror_mode": {
    "name": "ipython",
    "version": 3
   },
   "file_extension": ".py",
   "mimetype": "text/x-python",
   "name": "python",
   "nbconvert_exporter": "python",
   "pygments_lexer": "ipython3",
   "version": "3.6.4"
  }
 },
 "nbformat": 4,
 "nbformat_minor": 2
}
